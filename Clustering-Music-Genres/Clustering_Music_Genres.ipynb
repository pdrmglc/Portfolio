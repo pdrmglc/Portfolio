{
  "nbformat": 4,
  "nbformat_minor": 0,
  "metadata": {
    "colab": {
      "provenance": []
    },
    "kernelspec": {
      "name": "python3",
      "display_name": "Python 3"
    },
    "language_info": {
      "name": "python"
    }
  },
  "cells": [
    {
      "cell_type": "code",
      "source": [
        "# Importando bibliotecas\n",
        "\n",
        "!pip install -q kaggle\n",
        "from google.colab import files\n",
        "import pandas as pd\n",
        "import numpy as np\n",
        "from sklearn import cluster\n",
        "import seaborn as sns\n",
        "import matplotlib.pyplot as plt\n",
        "from sklearn.metrics import silhouette_score\n",
        "from sklearn.preprocessing import MinMaxScaler\n",
        "from sklearn.cluster import KMeans\n"
      ],
      "metadata": {
        "id": "I-55L4upHQy0"
      },
      "execution_count": 56,
      "outputs": []
    },
    {
      "cell_type": "code",
      "source": [
        " # Preparando para usar API do kaggle\n",
        "\n",
        " files.upload()"
      ],
      "metadata": {
        "colab": {
          "base_uri": "https://localhost:8080/",
          "height": 91
        },
        "id": "WvO_YBVqFdTD",
        "outputId": "f0d2a4db-0de8-434c-d9d0-30cfcbdfc724"
      },
      "execution_count": 4,
      "outputs": [
        {
          "output_type": "display_data",
          "data": {
            "text/plain": [
              "<IPython.core.display.HTML object>"
            ],
            "text/html": [
              "\n",
              "     <input type=\"file\" id=\"files-ad92f20a-8ef7-4405-9e19-629f28085b7a\" name=\"files[]\" multiple disabled\n",
              "        style=\"border:none\" />\n",
              "     <output id=\"result-ad92f20a-8ef7-4405-9e19-629f28085b7a\">\n",
              "      Upload widget is only available when the cell has been executed in the\n",
              "      current browser session. Please rerun this cell to enable.\n",
              "      </output>\n",
              "      <script>// Copyright 2017 Google LLC\n",
              "//\n",
              "// Licensed under the Apache License, Version 2.0 (the \"License\");\n",
              "// you may not use this file except in compliance with the License.\n",
              "// You may obtain a copy of the License at\n",
              "//\n",
              "//      http://www.apache.org/licenses/LICENSE-2.0\n",
              "//\n",
              "// Unless required by applicable law or agreed to in writing, software\n",
              "// distributed under the License is distributed on an \"AS IS\" BASIS,\n",
              "// WITHOUT WARRANTIES OR CONDITIONS OF ANY KIND, either express or implied.\n",
              "// See the License for the specific language governing permissions and\n",
              "// limitations under the License.\n",
              "\n",
              "/**\n",
              " * @fileoverview Helpers for google.colab Python module.\n",
              " */\n",
              "(function(scope) {\n",
              "function span(text, styleAttributes = {}) {\n",
              "  const element = document.createElement('span');\n",
              "  element.textContent = text;\n",
              "  for (const key of Object.keys(styleAttributes)) {\n",
              "    element.style[key] = styleAttributes[key];\n",
              "  }\n",
              "  return element;\n",
              "}\n",
              "\n",
              "// Max number of bytes which will be uploaded at a time.\n",
              "const MAX_PAYLOAD_SIZE = 100 * 1024;\n",
              "\n",
              "function _uploadFiles(inputId, outputId) {\n",
              "  const steps = uploadFilesStep(inputId, outputId);\n",
              "  const outputElement = document.getElementById(outputId);\n",
              "  // Cache steps on the outputElement to make it available for the next call\n",
              "  // to uploadFilesContinue from Python.\n",
              "  outputElement.steps = steps;\n",
              "\n",
              "  return _uploadFilesContinue(outputId);\n",
              "}\n",
              "\n",
              "// This is roughly an async generator (not supported in the browser yet),\n",
              "// where there are multiple asynchronous steps and the Python side is going\n",
              "// to poll for completion of each step.\n",
              "// This uses a Promise to block the python side on completion of each step,\n",
              "// then passes the result of the previous step as the input to the next step.\n",
              "function _uploadFilesContinue(outputId) {\n",
              "  const outputElement = document.getElementById(outputId);\n",
              "  const steps = outputElement.steps;\n",
              "\n",
              "  const next = steps.next(outputElement.lastPromiseValue);\n",
              "  return Promise.resolve(next.value.promise).then((value) => {\n",
              "    // Cache the last promise value to make it available to the next\n",
              "    // step of the generator.\n",
              "    outputElement.lastPromiseValue = value;\n",
              "    return next.value.response;\n",
              "  });\n",
              "}\n",
              "\n",
              "/**\n",
              " * Generator function which is called between each async step of the upload\n",
              " * process.\n",
              " * @param {string} inputId Element ID of the input file picker element.\n",
              " * @param {string} outputId Element ID of the output display.\n",
              " * @return {!Iterable<!Object>} Iterable of next steps.\n",
              " */\n",
              "function* uploadFilesStep(inputId, outputId) {\n",
              "  const inputElement = document.getElementById(inputId);\n",
              "  inputElement.disabled = false;\n",
              "\n",
              "  const outputElement = document.getElementById(outputId);\n",
              "  outputElement.innerHTML = '';\n",
              "\n",
              "  const pickedPromise = new Promise((resolve) => {\n",
              "    inputElement.addEventListener('change', (e) => {\n",
              "      resolve(e.target.files);\n",
              "    });\n",
              "  });\n",
              "\n",
              "  const cancel = document.createElement('button');\n",
              "  inputElement.parentElement.appendChild(cancel);\n",
              "  cancel.textContent = 'Cancel upload';\n",
              "  const cancelPromise = new Promise((resolve) => {\n",
              "    cancel.onclick = () => {\n",
              "      resolve(null);\n",
              "    };\n",
              "  });\n",
              "\n",
              "  // Wait for the user to pick the files.\n",
              "  const files = yield {\n",
              "    promise: Promise.race([pickedPromise, cancelPromise]),\n",
              "    response: {\n",
              "      action: 'starting',\n",
              "    }\n",
              "  };\n",
              "\n",
              "  cancel.remove();\n",
              "\n",
              "  // Disable the input element since further picks are not allowed.\n",
              "  inputElement.disabled = true;\n",
              "\n",
              "  if (!files) {\n",
              "    return {\n",
              "      response: {\n",
              "        action: 'complete',\n",
              "      }\n",
              "    };\n",
              "  }\n",
              "\n",
              "  for (const file of files) {\n",
              "    const li = document.createElement('li');\n",
              "    li.append(span(file.name, {fontWeight: 'bold'}));\n",
              "    li.append(span(\n",
              "        `(${file.type || 'n/a'}) - ${file.size} bytes, ` +\n",
              "        `last modified: ${\n",
              "            file.lastModifiedDate ? file.lastModifiedDate.toLocaleDateString() :\n",
              "                                    'n/a'} - `));\n",
              "    const percent = span('0% done');\n",
              "    li.appendChild(percent);\n",
              "\n",
              "    outputElement.appendChild(li);\n",
              "\n",
              "    const fileDataPromise = new Promise((resolve) => {\n",
              "      const reader = new FileReader();\n",
              "      reader.onload = (e) => {\n",
              "        resolve(e.target.result);\n",
              "      };\n",
              "      reader.readAsArrayBuffer(file);\n",
              "    });\n",
              "    // Wait for the data to be ready.\n",
              "    let fileData = yield {\n",
              "      promise: fileDataPromise,\n",
              "      response: {\n",
              "        action: 'continue',\n",
              "      }\n",
              "    };\n",
              "\n",
              "    // Use a chunked sending to avoid message size limits. See b/62115660.\n",
              "    let position = 0;\n",
              "    do {\n",
              "      const length = Math.min(fileData.byteLength - position, MAX_PAYLOAD_SIZE);\n",
              "      const chunk = new Uint8Array(fileData, position, length);\n",
              "      position += length;\n",
              "\n",
              "      const base64 = btoa(String.fromCharCode.apply(null, chunk));\n",
              "      yield {\n",
              "        response: {\n",
              "          action: 'append',\n",
              "          file: file.name,\n",
              "          data: base64,\n",
              "        },\n",
              "      };\n",
              "\n",
              "      let percentDone = fileData.byteLength === 0 ?\n",
              "          100 :\n",
              "          Math.round((position / fileData.byteLength) * 100);\n",
              "      percent.textContent = `${percentDone}% done`;\n",
              "\n",
              "    } while (position < fileData.byteLength);\n",
              "  }\n",
              "\n",
              "  // All done.\n",
              "  yield {\n",
              "    response: {\n",
              "      action: 'complete',\n",
              "    }\n",
              "  };\n",
              "}\n",
              "\n",
              "scope.google = scope.google || {};\n",
              "scope.google.colab = scope.google.colab || {};\n",
              "scope.google.colab._files = {\n",
              "  _uploadFiles,\n",
              "  _uploadFilesContinue,\n",
              "};\n",
              "})(self);\n",
              "</script> "
            ]
          },
          "metadata": {}
        },
        {
          "output_type": "stream",
          "name": "stdout",
          "text": [
            "Saving kaggle.json to kaggle.json\n"
          ]
        },
        {
          "output_type": "execute_result",
          "data": {
            "text/plain": [
              "{'kaggle.json': b'{\"username\":\"pedrojeronimo\",\"key\":\"e01e602764cdd6488501411a5c2321e4\"}'}"
            ]
          },
          "metadata": {},
          "execution_count": 4
        }
      ]
    },
    {
      "cell_type": "code",
      "source": [
        "!mkdir ~/.kaggle\n",
        "!cp kaggle.json ~/.kaggle/\n",
        "!chmod 600 ~/.kaggle/kaggle.json"
      ],
      "metadata": {
        "id": "GeZ8n57iFerS"
      },
      "execution_count": 5,
      "outputs": []
    },
    {
      "cell_type": "code",
      "source": [
        "# Baixando dataset diretamente do kaggle\n",
        "\n",
        "!kaggle datasets download -d iamsumat/spotify-top-2000s-mega-dataset"
      ],
      "metadata": {
        "colab": {
          "base_uri": "https://localhost:8080/"
        },
        "id": "8DrMIbtYFjuz",
        "outputId": "a0ffa4ca-d8e6-468c-a0c5-132444b95f4c"
      },
      "execution_count": 7,
      "outputs": [
        {
          "output_type": "stream",
          "name": "stdout",
          "text": [
            "Downloading spotify-top-2000s-mega-dataset.zip to /content\n",
            "\r  0% 0.00/65.5k [00:00<?, ?B/s]\n",
            "\r100% 65.5k/65.5k [00:00<00:00, 64.6MB/s]\n"
          ]
        }
      ]
    },
    {
      "cell_type": "code",
      "source": [
        "# Descompactando arquivo zip contendo o dataset\n",
        "\n",
        "!unzip spotify-top-2000s-mega-dataset.zip\n",
        "!rm spotify-top-2000s-mega-dataset.zip\n",
        "!ls"
      ],
      "metadata": {
        "colab": {
          "base_uri": "https://localhost:8080/"
        },
        "id": "nY7koVHeHERU",
        "outputId": "6dc19da6-5058-4f89-eee9-6479fbdd06dd"
      },
      "execution_count": 8,
      "outputs": [
        {
          "output_type": "stream",
          "name": "stdout",
          "text": [
            "Archive:  spotify-top-2000s-mega-dataset.zip\n",
            "  inflating: Spotify-2000.csv        \n",
            "kaggle.json  sample_data  Spotify-2000.csv\n"
          ]
        }
      ]
    },
    {
      "cell_type": "code",
      "source": [
        "data = pd.read_csv(\"Spotify-2000.csv\")\n",
        "print(data.head())"
      ],
      "metadata": {
        "colab": {
          "base_uri": "https://localhost:8080/"
        },
        "id": "bYVBm6cuHSzD",
        "outputId": "cc660fed-c797-472e-d80f-ed3c04545d1d"
      },
      "execution_count": 112,
      "outputs": [
        {
          "output_type": "stream",
          "name": "stdout",
          "text": [
            "   Index                   Title             Artist            Top Genre  \\\n",
            "0      1                 Sunrise        Norah Jones      adult standards   \n",
            "1      2             Black Night        Deep Purple           album rock   \n",
            "2      3          Clint Eastwood           Gorillaz  alternative hip hop   \n",
            "3      4           The Pretender       Foo Fighters    alternative metal   \n",
            "4      5  Waitin' On A Sunny Day  Bruce Springsteen         classic rock   \n",
            "\n",
            "   Year  Beats Per Minute (BPM)  Energy  Danceability  Loudness (dB)  \\\n",
            "0  2004                     157      30            53            -14   \n",
            "1  2000                     135      79            50            -11   \n",
            "2  2001                     168      69            66             -9   \n",
            "3  2007                     173      96            43             -4   \n",
            "4  2002                     106      82            58             -5   \n",
            "\n",
            "   Liveness  Valence Length (Duration)  Acousticness  Speechiness  Popularity  \n",
            "0        11       68               201            94            3          71  \n",
            "1        17       81               207            17            7          39  \n",
            "2         7       52               341             2           17          69  \n",
            "3         3       37               269             0            4          76  \n",
            "4        10       87               256             1            3          59  \n"
          ]
        }
      ]
    },
    {
      "cell_type": "code",
      "source": [
        "data = data.drop(\"Index\", axis=1)"
      ],
      "metadata": {
        "id": "t23N92j0HbZE"
      },
      "execution_count": 113,
      "outputs": []
    },
    {
      "cell_type": "code",
      "source": [
        "# Checando correlação entre as variáveis\n",
        "\n",
        "sns.heatmap(data.corr(numeric_only=True), cmap=\"vlag\", vmax=1,vmin=-1)"
      ],
      "metadata": {
        "colab": {
          "base_uri": "https://localhost:8080/",
          "height": 602
        },
        "id": "ukRJNP5vHfzz",
        "outputId": "430a0e55-01d7-4985-9143-a2e47472cc85"
      },
      "execution_count": 114,
      "outputs": [
        {
          "output_type": "execute_result",
          "data": {
            "text/plain": [
              "<Axes: >"
            ]
          },
          "metadata": {},
          "execution_count": 114
        },
        {
          "output_type": "display_data",
          "data": {
            "text/plain": [
              "<Figure size 640x480 with 2 Axes>"
            ],
            "image/png": "[encoded data removed]"
          },
          "metadata": {}
        }
      ]
    },
    {
      "cell_type": "code",
      "source": [
        "# Filtrando um dataframe temporário para possuir apenas as colunas numéricas\n",
        "\n",
        "data2 = data[[\"Beats Per Minute (BPM)\", \"Loudness (dB)\",\n",
        "              \"Liveness\", \"Valence\", \"Acousticness\",\n",
        "              \"Speechiness\"]]\n",
        "\n",
        "# Instanciação da classe para normalização e normalização das colunas\n",
        "scaler = MinMaxScaler()\n",
        "data2_scaled = scaler.fit_transform(data2)\n"
      ],
      "metadata": {
        "id": "HJJtmwrZIZ4Y"
      },
      "execution_count": 141,
      "outputs": []
    },
    {
      "cell_type": "code",
      "source": [
        "# Avaliar a variância de cada cluster para um número N de clusters, estimando um\n",
        "# número de cluster mais otimizado\n",
        "\n",
        "wcss = []\n",
        "for i in range(1, 11):\n",
        "    kmeans = KMeans(n_clusters=i, init='k-means++', max_iter=300, n_init=10, random_state=0)\n",
        "    kmeans.fit(data2_scaled)\n",
        "    wcss.append(kmeans.inertia_)"
      ],
      "metadata": {
        "id": "bMFqJJdWPXLp"
      },
      "execution_count": 142,
      "outputs": []
    },
    {
      "cell_type": "code",
      "source": [
        "plt.plot(range(1, 11), wcss)\n",
        "plt.title('Método do Cotovelo')\n",
        "plt.xlabel('Número de Clusters')\n",
        "plt.ylabel('WCSS')\n",
        "plt.show()"
      ],
      "metadata": {
        "colab": {
          "base_uri": "https://localhost:8080/",
          "height": 472
        },
        "id": "DG8q3eHjPkoK",
        "outputId": "2673d350-d29d-4392-dc65-147e137a40fc"
      },
      "execution_count": 117,
      "outputs": [
        {
          "output_type": "display_data",
          "data": {
            "text/plain": [
              "<Figure size 640x480 with 1 Axes>"
            ],
            "image/png": "[encoded data removed]"
          },
          "metadata": {}
        }
      ]
    },
    {
      "cell_type": "code",
      "source": [
        "# Treinamento e predição do modelo K-means com o N observado no gráfico anterior\n",
        "# onde a curva 'desacelera'\n",
        "\n",
        "n_clusters = 3\n",
        "kmeans = KMeans(n_clusters=n_clusters, n_init=10)\n",
        "clusters = kmeans.fit_predict(data2_scaled)"
      ],
      "metadata": {
        "id": "zcb4Mxq1PkOh"
      },
      "execution_count": 143,
      "outputs": []
    },
    {
      "cell_type": "code",
      "source": [
        "# Avaliar a distância entre e intra-clusters\n",
        "# Quanto mais próximo de 1, melhor\n",
        "\n",
        "silhouette_avg = silhouette_score(data2_scaled, clusters)\n",
        "print(\"A média da métrica de silhueta para os clusters é:\", round(silhouette_avg,4))"
      ],
      "metadata": {
        "colab": {
          "base_uri": "https://localhost:8080/"
        },
        "id": "63CNc5hyOl-a",
        "outputId": "03737086-1df3-4f4b-8396-980d125928ac"
      },
      "execution_count": 144,
      "outputs": [
        {
          "output_type": "stream",
          "name": "stdout",
          "text": [
            "A média da métrica de silhueta para os clusters é: 0.2702\n"
          ]
        }
      ]
    },
    {
      "cell_type": "code",
      "source": [
        "# Atribuir os clusters preditos ao dataset inicial\n",
        "\n",
        "data[\"Music Segments\"] = clusters;data[\"Music Segments\"].value_counts()"
      ],
      "metadata": {
        "colab": {
          "base_uri": "https://localhost:8080/"
        },
        "id": "ktKkFPXkJhwe",
        "outputId": "92376607-b6e5-4851-d918-505ff1300e52"
      },
      "execution_count": 145,
      "outputs": [
        {
          "output_type": "execute_result",
          "data": {
            "text/plain": [
              "1    725\n",
              "2    713\n",
              "0    556\n",
              "Name: Music Segments, dtype: int64"
            ]
          },
          "metadata": {},
          "execution_count": 145
        }
      ]
    },
    {
      "cell_type": "code",
      "source": [
        "dicMap = {num:f'Cluster {num+1}' for num in range(n_clusters)};dicMap"
      ],
      "metadata": {
        "colab": {
          "base_uri": "https://localhost:8080/"
        },
        "id": "HK-phkkxQTe4",
        "outputId": "011a14ca-c9d7-4e95-e32c-9845abb5fe08"
      },
      "execution_count": 146,
      "outputs": [
        {
          "output_type": "execute_result",
          "data": {
            "text/plain": [
              "{0: 'Cluster 1', 1: 'Cluster 2', 2: 'Cluster 3'}"
            ]
          },
          "metadata": {},
          "execution_count": 146
        }
      ]
    },
    {
      "cell_type": "code",
      "source": [
        "data = data.sort_values(by=[\"Music Segments\"]);data.head()"
      ],
      "metadata": {
        "colab": {
          "base_uri": "https://localhost:8080/",
          "height": 379
        },
        "id": "QAD8wpT0RT8i",
        "outputId": "c0de0fff-f970-4b27-8834-d7b38dbe87c4"
      },
      "execution_count": 147,
      "outputs": [
        {
          "output_type": "execute_result",
          "data": {
            "text/plain": [
              "                   Title           Artist         Top Genre  Year  \\\n",
              "1968    Beautiful People          Melanie    classic uk pop  1969   \n",
              "1810     The Family Tree           Venice  alternative rock  1999   \n",
              "864        Mercedes Benz     Janis Joplin        blues rock  1971   \n",
              "1617                Gaia         Valensia    classical rock  1993   \n",
              "508   One Moment in Time  Whitney Houston         dance pop  2012   \n",
              "\n",
              "      Beats Per Minute (BPM)  Energy  Danceability  Loudness (dB)  Liveness  \\\n",
              "1968                     129      44            54             -9        40   \n",
              "1810                     127      10            34            -16        10   \n",
              "864                       87      11            70            -15         7   \n",
              "1617                     174      33            38            -13        21   \n",
              "508                      155      54            27             -7        10   \n",
              "\n",
              "      Valence Length (Duration)  Acousticness  Speechiness  Popularity  \\\n",
              "1968       37               215            61            5          44   \n",
              "1810       26               205            81            3          41   \n",
              "864        52               108            94           55          58   \n",
              "1617       20               331            74            3          39   \n",
              "508        33               285            49            3          54   \n",
              "\n",
              "      Music Segments  \n",
              "1968               0  \n",
              "1810               0  \n",
              "864                0  \n",
              "1617               0  \n",
              "508                0  "
            ],
            "text/html": [
              "\n",
              "  <div id=\"df-252d112f-a74c-427a-9fcd-6a9a92ba86c7\" class=\"colab-df-container\">\n",
              "    <div>\n",
              "<style scoped>\n",
              "    .dataframe tbody tr th:only-of-type {\n",
              "        vertical-align: middle;\n",
              "    }\n",
              "\n",
              "    .dataframe tbody tr th {\n",
              "        vertical-align: top;\n",
              "    }\n",
              "\n",
              "    .dataframe thead th {\n",
              "        text-align: right;\n",
              "    }\n",
              "</style>\n",
              "<table border=\"1\" class=\"dataframe\">\n",
              "  <thead>\n",
              "    <tr style=\"text-align: right;\">\n",
              "      <th></th>\n",
              "      <th>Title</th>\n",
              "      <th>Artist</th>\n",
              "      <th>Top Genre</th>\n",
              "      <th>Year</th>\n",
              "      <th>Beats Per Minute (BPM)</th>\n",
              "      <th>Energy</th>\n",
              "      <th>Danceability</th>\n",
              "      <th>Loudness (dB)</th>\n",
              "      <th>Liveness</th>\n",
              "      <th>Valence</th>\n",
              "      <th>Length (Duration)</th>\n",
              "      <th>Acousticness</th>\n",
              "      <th>Speechiness</th>\n",
              "      <th>Popularity</th>\n",
              "      <th>Music Segments</th>\n",
              "    </tr>\n",
              "  </thead>\n",
              "  <tbody>\n",
              "    <tr>\n",
              "      <th>1968</th>\n",
              "      <td>Beautiful People</td>\n",
              "      <td>Melanie</td>\n",
              "      <td>classic uk pop</td>\n",
              "      <td>1969</td>\n",
              "      <td>129</td>\n",
              "      <td>44</td>\n",
              "      <td>54</td>\n",
              "      <td>-9</td>\n",
              "      <td>40</td>\n",
              "      <td>37</td>\n",
              "      <td>215</td>\n",
              "      <td>61</td>\n",
              "      <td>5</td>\n",
              "      <td>44</td>\n",
              "      <td>0</td>\n",
              "    </tr>\n",
              "    <tr>\n",
              "      <th>1810</th>\n",
              "      <td>The Family Tree</td>\n",
              "      <td>Venice</td>\n",
              "      <td>alternative rock</td>\n",
              "      <td>1999</td>\n",
              "      <td>127</td>\n",
              "      <td>10</td>\n",
              "      <td>34</td>\n",
              "      <td>-16</td>\n",
              "      <td>10</td>\n",
              "      <td>26</td>\n",
              "      <td>205</td>\n",
              "      <td>81</td>\n",
              "      <td>3</td>\n",
              "      <td>41</td>\n",
              "      <td>0</td>\n",
              "    </tr>\n",
              "    <tr>\n",
              "      <th>864</th>\n",
              "      <td>Mercedes Benz</td>\n",
              "      <td>Janis Joplin</td>\n",
              "      <td>blues rock</td>\n",
              "      <td>1971</td>\n",
              "      <td>87</td>\n",
              "      <td>11</td>\n",
              "      <td>70</td>\n",
              "      <td>-15</td>\n",
              "      <td>7</td>\n",
              "      <td>52</td>\n",
              "      <td>108</td>\n",
              "      <td>94</td>\n",
              "      <td>55</td>\n",
              "      <td>58</td>\n",
              "      <td>0</td>\n",
              "    </tr>\n",
              "    <tr>\n",
              "      <th>1617</th>\n",
              "      <td>Gaia</td>\n",
              "      <td>Valensia</td>\n",
              "      <td>classical rock</td>\n",
              "      <td>1993</td>\n",
              "      <td>174</td>\n",
              "      <td>33</td>\n",
              "      <td>38</td>\n",
              "      <td>-13</td>\n",
              "      <td>21</td>\n",
              "      <td>20</td>\n",
              "      <td>331</td>\n",
              "      <td>74</td>\n",
              "      <td>3</td>\n",
              "      <td>39</td>\n",
              "      <td>0</td>\n",
              "    </tr>\n",
              "    <tr>\n",
              "      <th>508</th>\n",
              "      <td>One Moment in Time</td>\n",
              "      <td>Whitney Houston</td>\n",
              "      <td>dance pop</td>\n",
              "      <td>2012</td>\n",
              "      <td>155</td>\n",
              "      <td>54</td>\n",
              "      <td>27</td>\n",
              "      <td>-7</td>\n",
              "      <td>10</td>\n",
              "      <td>33</td>\n",
              "      <td>285</td>\n",
              "      <td>49</td>\n",
              "      <td>3</td>\n",
              "      <td>54</td>\n",
              "      <td>0</td>\n",
              "    </tr>\n",
              "  </tbody>\n",
              "</table>\n",
              "</div>\n",
              "    <div class=\"colab-df-buttons\">\n",
              "\n",
              "  <div class=\"colab-df-container\">\n",
              "    <button class=\"colab-df-convert\" onclick=\"convertToInteractive('df-252d112f-a74c-427a-9fcd-6a9a92ba86c7')\"\n",
              "            title=\"Convert this dataframe to an interactive table.\"\n",
              "            style=\"display:none;\">\n",
              "\n",
              "  <svg xmlns=\"http://www.w3.org/2000/svg\" height=\"24px\" viewBox=\"0 -960 960 960\">\n",
              "    <path d=\"M120-120v-720h720v720H120Zm60-500h600v-160H180v160Zm220 220h160v-160H400v160Zm0 220h160v-160H400v160ZM180-400h160v-160H180v160Zm440 0h160v-160H620v160ZM180-180h160v-160H180v160Zm440 0h160v-160H620v160Z\"/>\n",
              "  </svg>\n",
              "    </button>\n",
              "\n",
              "  <style>\n",
              "    .colab-df-container {\n",
              "      display:flex;\n",
              "      gap: 12px;\n",
              "    }\n",
              "\n",
              "    .colab-df-convert {\n",
              "      background-color: #E8F0FE;\n",
              "      border: none;\n",
              "      border-radius: 50%;\n",
              "      cursor: pointer;\n",
              "      display: none;\n",
              "      fill: #1967D2;\n",
              "      height: 32px;\n",
              "      padding: 0 0 0 0;\n",
              "      width: 32px;\n",
              "    }\n",
              "\n",
              "    .colab-df-convert:hover {\n",
              "      background-color: #E2EBFA;\n",
              "      box-shadow: 0px 1px 2px rgba(60, 64, 67, 0.3), 0px 1px 3px 1px rgba(60, 64, 67, 0.15);\n",
              "      fill: #174EA6;\n",
              "    }\n",
              "\n",
              "    .colab-df-buttons div {\n",
              "      margin-bottom: 4px;\n",
              "    }\n",
              "\n",
              "    [theme=dark] .colab-df-convert {\n",
              "      background-color: #3B4455;\n",
              "      fill: #D2E3FC;\n",
              "    }\n",
              "\n",
              "    [theme=dark] .colab-df-convert:hover {\n",
              "      background-color: #434B5C;\n",
              "      box-shadow: 0px 1px 3px 1px rgba(0, 0, 0, 0.15);\n",
              "      filter: drop-shadow(0px 1px 2px rgba(0, 0, 0, 0.3));\n",
              "      fill: #FFFFFF;\n",
              "    }\n",
              "  </style>\n",
              "\n",
              "    <script>\n",
              "      const buttonEl =\n",
              "        document.querySelector('#df-252d112f-a74c-427a-9fcd-6a9a92ba86c7 button.colab-df-convert');\n",
              "      buttonEl.style.display =\n",
              "        google.colab.kernel.accessAllowed ? 'block' : 'none';\n",
              "\n",
              "      async function convertToInteractive(key) {\n",
              "        const element = document.querySelector('#df-252d112f-a74c-427a-9fcd-6a9a92ba86c7');\n",
              "        const dataTable =\n",
              "          await google.colab.kernel.invokeFunction('convertToInteractive',\n",
              "                                                    [key], {});\n",
              "        if (!dataTable) return;\n",
              "\n",
              "        const docLinkHtml = 'Like what you see? Visit the ' +\n",
              "          '<a target=\"_blank\" href=https://colab.research.google.com/notebooks/data_table.ipynb>data table notebook</a>'\n",
              "          + ' to learn more about interactive tables.';\n",
              "        element.innerHTML = '';\n",
              "        dataTable['output_type'] = 'display_data';\n",
              "        await google.colab.output.renderOutput(dataTable, element);\n",
              "        const docLink = document.createElement('div');\n",
              "        docLink.innerHTML = docLinkHtml;\n",
              "        element.appendChild(docLink);\n",
              "      }\n",
              "    </script>\n",
              "  </div>\n",
              "\n",
              "\n",
              "<div id=\"df-016e08be-76a1-4520-9acf-634b9e7fdf02\">\n",
              "  <button class=\"colab-df-quickchart\" onclick=\"quickchart('df-016e08be-76a1-4520-9acf-634b9e7fdf02')\"\n",
              "            title=\"Suggest charts\"\n",
              "            style=\"display:none;\">\n",
              "\n",
              "<svg xmlns=\"http://www.w3.org/2000/svg\" height=\"24px\"viewBox=\"0 0 24 24\"\n",
              "     width=\"24px\">\n",
              "    <g>\n",
              "        <path d=\"M19 3H5c-1.1 0-2 .9-2 2v14c0 1.1.9 2 2 2h14c1.1 0 2-.9 2-2V5c0-1.1-.9-2-2-2zM9 17H7v-7h2v7zm4 0h-2V7h2v10zm4 0h-2v-4h2v4z\"/>\n",
              "    </g>\n",
              "</svg>\n",
              "  </button>\n",
              "\n",
              "<style>\n",
              "  .colab-df-quickchart {\n",
              "      --bg-color: #E8F0FE;\n",
              "      --fill-color: #1967D2;\n",
              "      --hover-bg-color: #E2EBFA;\n",
              "      --hover-fill-color: #174EA6;\n",
              "      --disabled-fill-color: #AAA;\n",
              "      --disabled-bg-color: #DDD;\n",
              "  }\n",
              "\n",
              "  [theme=dark] .colab-df-quickchart {\n",
              "      --bg-color: #3B4455;\n",
              "      --fill-color: #D2E3FC;\n",
              "      --hover-bg-color: #434B5C;\n",
              "      --hover-fill-color: #FFFFFF;\n",
              "      --disabled-bg-color: #3B4455;\n",
              "      --disabled-fill-color: #666;\n",
              "  }\n",
              "\n",
              "  .colab-df-quickchart {\n",
              "    background-color: var(--bg-color);\n",
              "    border: none;\n",
              "    border-radius: 50%;\n",
              "    cursor: pointer;\n",
              "    display: none;\n",
              "    fill: var(--fill-color);\n",
              "    height: 32px;\n",
              "    padding: 0;\n",
              "    width: 32px;\n",
              "  }\n",
              "\n",
              "  .colab-df-quickchart:hover {\n",
              "    background-color: var(--hover-bg-color);\n",
              "    box-shadow: 0 1px 2px rgba(60, 64, 67, 0.3), 0 1px 3px 1px rgba(60, 64, 67, 0.15);\n",
              "    fill: var(--button-hover-fill-color);\n",
              "  }\n",
              "\n",
              "  .colab-df-quickchart-complete:disabled,\n",
              "  .colab-df-quickchart-complete:disabled:hover {\n",
              "    background-color: var(--disabled-bg-color);\n",
              "    fill: var(--disabled-fill-color);\n",
              "    box-shadow: none;\n",
              "  }\n",
              "\n",
              "  .colab-df-spinner {\n",
              "    border: 2px solid var(--fill-color);\n",
              "    border-color: transparent;\n",
              "    border-bottom-color: var(--fill-color);\n",
              "    animation:\n",
              "      spin 1s steps(1) infinite;\n",
              "  }\n",
              "\n",
              "  @keyframes spin {\n",
              "    0% {\n",
              "      border-color: transparent;\n",
              "      border-bottom-color: var(--fill-color);\n",
              "      border-left-color: var(--fill-color);\n",
              "    }\n",
              "    20% {\n",
              "      border-color: transparent;\n",
              "      border-left-color: var(--fill-color);\n",
              "      border-top-color: var(--fill-color);\n",
              "    }\n",
              "    30% {\n",
              "      border-color: transparent;\n",
              "      border-left-color: var(--fill-color);\n",
              "      border-top-color: var(--fill-color);\n",
              "      border-right-color: var(--fill-color);\n",
              "    }\n",
              "    40% {\n",
              "      border-color: transparent;\n",
              "      border-right-color: var(--fill-color);\n",
              "      border-top-color: var(--fill-color);\n",
              "    }\n",
              "    60% {\n",
              "      border-color: transparent;\n",
              "      border-right-color: var(--fill-color);\n",
              "    }\n",
              "    80% {\n",
              "      border-color: transparent;\n",
              "      border-right-color: var(--fill-color);\n",
              "      border-bottom-color: var(--fill-color);\n",
              "    }\n",
              "    90% {\n",
              "      border-color: transparent;\n",
              "      border-bottom-color: var(--fill-color);\n",
              "    }\n",
              "  }\n",
              "</style>\n",
              "\n",
              "  <script>\n",
              "    async function quickchart(key) {\n",
              "      const quickchartButtonEl =\n",
              "        document.querySelector('#' + key + ' button');\n",
              "      quickchartButtonEl.disabled = true;  // To prevent multiple clicks.\n",
              "      quickchartButtonEl.classList.add('colab-df-spinner');\n",
              "      try {\n",
              "        const charts = await google.colab.kernel.invokeFunction(\n",
              "            'suggestCharts', [key], {});\n",
              "      } catch (error) {\n",
              "        console.error('Error during call to suggestCharts:', error);\n",
              "      }\n",
              "      quickchartButtonEl.classList.remove('colab-df-spinner');\n",
              "      quickchartButtonEl.classList.add('colab-df-quickchart-complete');\n",
              "    }\n",
              "    (() => {\n",
              "      let quickchartButtonEl =\n",
              "        document.querySelector('#df-016e08be-76a1-4520-9acf-634b9e7fdf02 button');\n",
              "      quickchartButtonEl.style.display =\n",
              "        google.colab.kernel.accessAllowed ? 'block' : 'none';\n",
              "    })();\n",
              "  </script>\n",
              "</div>\n",
              "\n",
              "    </div>\n",
              "  </div>\n"
            ]
          },
          "metadata": {},
          "execution_count": 147
        }
      ]
    },
    {
      "cell_type": "code",
      "source": [
        "# Renomeando os valores dos clusters para melhor entendimento\n",
        "# Ex: 0 -> Cluster 1; 1 -> Cluster 2\n",
        "\n",
        "data[\"Music Segments\"] = data[\"Music Segments\"].map(dicMap)"
      ],
      "metadata": {
        "id": "kGasZ2s4ME_1"
      },
      "execution_count": 148,
      "outputs": []
    },
    {
      "cell_type": "code",
      "source": [
        "# Gráfico de dispersão 3D para visualização dos dados\n",
        "\n",
        "import plotly.graph_objects as go\n",
        "PLOT = go.Figure()\n",
        "for i in list(data[\"Music Segments\"].unique()):\n",
        "\n",
        "\n",
        "    PLOT.add_trace(go.Scatter3d(x = data[data[\"Music Segments\"]== i]['Beats Per Minute (BPM)'],\n",
        "                                y = data[data[\"Music Segments\"] == i]['Energy'],\n",
        "                                z = data[data[\"Music Segments\"] == i]['Danceability'],\n",
        "                                mode = 'markers',marker_size = 6, marker_line_width = 1,\n",
        "                                name = str(i)))\n",
        "PLOT.update_traces(hovertemplate='Beats Per Minute (BPM): %{x} <br>Energy: %{y} <br>Danceability: %{z}')\n",
        "\n",
        "\n",
        "PLOT.update_layout(width = 800, height = 800, autosize = True, showlegend = True,\n",
        "                   scene = dict(xaxis=dict(title = 'Beats Per Minute (BPM)', titlefont_color = 'black'),\n",
        "                                yaxis=dict(title = 'Energy', titlefont_color = 'black'),\n",
        "                                zaxis=dict(title = 'Danceability', titlefont_color = 'black')),\n",
        "                   font = dict(family = \"Gilroy\", color  = 'black', size = 12))"
      ],
      "metadata": {
        "colab": {
          "base_uri": "https://localhost:8080/",
          "height": 817
        },
        "id": "3LARvE22MsKo",
        "outputId": "e8544d2b-edd1-488e-b460-0e51a46fb309"
      },
      "execution_count": 149,
      "outputs": [
        {
          "output_type": "display_data",
          "data": {
            "text/html": [
              "<html>\n",
              "<head><meta charset=\"utf-8\" /></head>\n",
              "<body>\n",
              "    <div>            <script src=\"https://cdnjs.cloudflare.com/ajax/libs/mathjax/2.7.5/MathJax.js?config=TeX-AMS-MML_SVG\"></script><script type=\"text/javascript\">if (window.MathJax && window.MathJax.Hub && window.MathJax.Hub.Config) {window.MathJax.Hub.Config({SVG: {font: \"STIX-Web\"}});}</script>                <script type=\"text/javascript\">window.PlotlyConfig = {MathJaxConfig: 'local'};</script>\n",
              "        <script charset=\"utf-8\" src=\"https://cdn.plot.ly/plotly-2.24.1.min.js\"></script>                <div id=\"33c62d9e-d591-4ba5-bc88-c2f30bd9944c\" class=\"plotly-graph-div\" style=\"height:800px; width:800px;\"></div>            <script type=\"text/javascript\">                                    window.PLOTLYENV=window.PLOTLYENV || {};                                    if (document.getElementById(\"33c62d9e-d591-4ba5-bc88-c2f30bd9944c\")) {                    Plotly.newPlot(                        \"33c62d9e-d591-4ba5-bc88-c2f30bd9944c\",                        [{\"marker\":{\"line\":{\"width\":1},\"size\":6},\"mode\":\"markers\",\"name\":\"Cluster 1\",\"x\":[129,127,87,174,155,97,124,98,164,100,72,175,125,94,99,99,131,111,127,90,90,70,93,73,80,105,128,176,113,126,116,100,134,76,161,73,83,91,177,110,172,107,146,141,125,76,75,121,104,151,106,123,95,116,143,95,142,115,96,106,80,97,67,91,169,138,92,90,102,115,136,104,80,174,166,78,204,86,121,114,87,112,82,108,112,142,95,149,124,100,84,79,90,112,121,106,119,109,60,120,116,140,111,139,68,140,119,128,130,87,76,95,135,174,99,89,71,90,108,85,94,168,77,131,86,81,72,120,134,106,113,95,94,114,123,113,134,116,178,125,80,119,81,77,105,108,77,129,156,98,80,103,135,85,177,112,94,121,99,121,154,132,129,119,81,137,181,132,111,92,118,83,81,114,136,119,90,134,104,167,87,136,130,92,128,146,87,95,115,99,122,77,103,100,121,112,87,79,116,148,79,112,88,186,117,155,86,89,128,138,108,79,90,123,130,136,190,120,98,109,159,166,122,120,80,82,75,72,100,133,76,91,146,163,105,93,125,135,58,160,147,114,91,156,133,67,140,118,200,83,135,113,78,75,96,129,155,123,85,109,80,106,126,63,76,144,105,105,110,92,89,107,115,113,90,142,170,174,131,87,73,99,84,135,134,77,85,99,125,93,118,157,82,99,122,90,110,100,126,104,97,105,133,131,96,74,108,117,112,79,146,128,92,124,130,84,99,119,184,75,110,144,70,144,78,93,119,123,129,162,139,108,116,132,73,76,128,97,110,136,125,83,100,160,93,94,127,79,123,90,136,89,87,76,171,74,135,81,61,81,119,138,178,121,131,167,130,85,150,84,89,134,92,74,68,83,143,94,108,111,79,138,179,117,199,77,101,122,138,82,117,82,108,134,83,37,77,78,123,73,109,120,123,123,100,140,123,127,134,153,73,138,81,135,82,119,137,131,123,122,67,68,100,86,170,122,105,111,170,94,109,180,125,129,133,105,100,124,104,137,134,126,148,136,106,112,110,169,150,159,141,115,115,137,142,178,82,86,90,133,184,176,84,146,79,179,148,81,79,132,159,81,125,115,79,94,92,120,153,109,73,148,87,129,111,136,172,116,90,146,100,132,78,102,174,92,144,93,89,76,129,81,140,131,136,101,92,61,81,96,105,121,92,124,139,83,94,96,137,107,83,82,171,154,104,135,132,84,175,149,116,138,151,66,119,98,140,113,161,104,115,84,104,133,98,126,84,145,110,174,124,123,130,173,132,81],\"y\":[44,10,11,33,54,38,39,21,43,29,33,10,6,13,29,47,75,24,33,47,26,13,51,34,14,67,30,47,31,31,83,80,51,44,38,28,53,27,21,41,40,22,58,30,53,5,66,8,37,46,66,38,87,26,40,42,28,8,38,35,42,18,12,32,26,48,28,26,33,31,37,41,9,26,50,31,41,22,47,71,57,32,34,38,31,28,72,30,59,38,20,35,39,42,32,32,26,33,22,48,22,24,40,28,45,43,81,36,44,25,24,26,33,13,26,25,58,24,7,50,9,7,17,48,51,41,26,26,26,52,25,20,32,44,41,55,36,39,29,63,21,65,20,76,47,55,29,72,30,59,48,44,63,32,32,59,13,36,48,3,36,27,25,47,42,30,39,17,68,46,39,43,24,39,6,24,55,51,6,61,40,46,51,38,37,45,33,40,31,21,57,29,31,19,19,8,38,27,31,63,27,52,20,40,29,20,62,27,21,32,61,36,21,63,32,93,24,30,62,59,57,29,26,49,45,25,41,21,80,36,40,30,44,51,24,38,41,55,40,64,31,19,22,41,50,21,24,31,42,42,23,28,20,38,21,50,28,54,41,33,37,27,34,13,26,26,46,44,46,64,77,66,59,21,26,18,34,6,32,33,18,28,10,28,32,17,48,64,47,49,17,30,48,29,87,14,35,55,28,44,14,55,38,31,52,65,74,34,44,60,40,32,61,33,41,56,19,63,34,19,31,34,59,44,14,46,4,51,16,33,45,40,19,53,30,57,52,55,8,33,27,69,25,61,37,21,79,33,13,38,55,57,35,55,20,17,27,25,13,49,25,44,34,37,24,47,48,29,80,42,26,23,53,30,51,25,48,18,35,69,44,28,47,18,36,18,31,49,44,47,45,52,44,41,75,25,13,40,16,26,59,75,65,55,75,42,36,18,38,23,40,62,25,37,38,38,48,28,34,39,13,47,63,28,68,67,29,53,46,32,5,43,67,57,42,32,33,55,34,53,52,17,41,14,54,36,33,38,66,16,76,69,75,34,24,68,20,22,30,43,9,91,48,31,18,54,21,49,48,33,17,56,15,55,45,50,13,32,40,78,25,48,35,23,42,17,14,33,39,69,57,7,40,56,28,36,40,41,34,35,66,50,39,22,16,24,42,25,35,32,55,67,9,43,43,18,35,35,33,29,63,36,34,24,46,33,29,37,45,20,28,29,32,9,26,37,21,17,26,29,39,13,37,32,42,32,37,27,64,38,46,59,49,30,47,54],\"z\":[54,34,70,38,27,40,61,61,26,40,45,38,41,60,49,87,58,60,79,37,75,35,62,44,22,42,48,35,65,45,64,79,41,31,35,61,66,40,49,50,39,53,47,71,68,63,40,50,77,69,65,44,60,67,44,50,39,67,54,64,48,33,16,76,47,53,70,25,34,55,53,79,46,45,40,51,62,54,56,67,60,38,34,61,62,59,48,33,47,61,59,62,53,82,50,52,67,56,23,36,28,25,63,49,44,44,62,38,72,41,18,47,65,50,71,53,39,59,52,42,48,17,50,30,71,66,35,42,54,72,68,54,48,37,70,67,67,69,30,39,15,32,37,60,72,63,59,60,40,82,59,69,42,52,29,30,69,57,59,31,45,32,34,70,15,59,36,41,79,61,47,48,54,57,32,75,50,51,49,24,14,53,57,57,61,54,63,54,69,34,39,55,40,48,41,53,35,19,32,49,34,46,73,32,58,42,32,40,38,26,57,53,12,65,53,66,45,46,66,57,35,38,39,60,31,53,33,46,59,59,34,28,56,49,61,49,67,44,25,59,55,69,69,45,49,31,70,65,29,47,40,33,24,40,57,86,50,45,17,67,56,72,47,53,55,36,52,29,49,56,41,45,66,38,43,44,25,35,29,52,26,43,55,30,28,27,20,44,60,44,43,53,68,27,64,27,39,59,55,29,32,52,51,50,32,62,59,65,55,51,38,55,63,76,61,53,65,63,38,49,67,64,43,47,26,81,47,65,63,56,59,49,56,58,36,46,64,74,52,50,62,31,55,36,48,70,46,40,50,42,43,53,39,35,34,33,55,25,27,50,54,50,39,51,75,30,55,64,29,42,52,35,39,43,33,42,66,56,47,58,22,58,33,54,28,55,61,35,46,41,49,43,50,46,39,27,44,54,46,52,41,62,55,55,56,32,30,56,44,38,41,63,39,24,68,52,49,33,45,58,47,35,61,32,44,63,46,35,18,47,44,22,42,61,42,57,43,50,65,60,40,33,66,45,76,48,63,23,25,41,37,57,48,54,34,30,32,43,64,39,39,21,50,30,33,45,33,53,48,30,48,37,59,54,78,51,63,74,54,45,49,39,27,42,56,54,39,53,52,59,74,19,57,78,36,41,56,67,71,61,57,69,43,46,44,42,81,49,48,61,75,60,42,42,57,30,64,51,51,55,41,28,28,50,31,56,54,54,42,28,44,27,38,36,46,48,59,68,54,66,62,21,55,42,52,65,45,40,52,21,56,76,41,32,57,48],\"type\":\"scatter3d\",\"hovertemplate\":\"Beats Per Minute (BPM): %{x} \\u003cbr\\u003eEnergy: %{y} \\u003cbr\\u003eDanceability: %{z}\"},{\"marker\":{\"line\":{\"width\":1},\"size\":6},\"mode\":\"markers\",\"name\":\"Cluster 2\",\"x\":[127,184,101,159,110,103,110,110,102,98,82,96,123,167,95,132,161,112,150,170,123,150,86,162,84,128,170,115,99,132,125,171,138,87,110,114,142,96,82,126,140,69,114,122,180,144,197,144,153,98,156,112,125,150,123,117,183,126,81,172,90,127,127,172,128,98,82,135,103,157,98,77,99,131,96,88,121,118,94,110,134,168,104,118,138,77,103,87,175,112,119,88,125,163,119,105,127,139,96,114,88,100,135,105,132,133,110,123,186,134,105,138,130,103,102,133,166,142,145,96,125,77,85,90,98,156,140,80,112,95,123,138,182,170,110,81,111,130,125,176,154,103,80,134,190,113,124,168,125,110,102,105,92,144,131,138,135,90,139,92,97,186,103,140,170,99,154,134,193,127,96,99,130,132,170,94,90,117,157,105,110,128,140,79,126,163,123,175,149,141,109,91,108,86,85,123,96,164,119,133,119,86,175,115,94,64,119,117,118,168,120,100,144,98,152,93,116,131,116,88,134,131,125,114,98,101,108,123,149,171,82,126,120,100,169,120,174,92,109,115,100,86,135,158,92,165,172,120,135,164,114,141,90,120,170,128,142,140,154,128,128,130,111,95,146,76,99,122,123,136,110,190,174,168,128,95,109,83,140,161,174,125,150,142,104,140,131,174,97,130,135,183,149,138,125,68,120,88,129,138,120,74,103,105,150,181,139,80,87,138,184,179,75,92,114,120,116,131,109,120,174,103,95,95,98,169,104,115,79,130,149,61,135,194,95,145,168,76,80,93,132,142,117,80,128,94,92,129,169,94,75,81,150,145,71,148,126,140,128,171,85,108,85,153,130,96,180,136,160,107,159,173,167,90,75,102,130,139,122,124,94,114,95,117,136,81,104,153,160,98,109,106,122,130,121,133,150,115,165,74,110,120,120,91,164,96,74,136,180,142,145,113,171,109,119,90,160,120,120,75,95,117,81,113,159,99,121,102,124,80,75,116,150,156,152,142,152,97,134,93,160,145,127,118,143,174,106,127,124,112,140,90,131,130,79,117,111,140,80,73,168,166,184,144,112,121,94,161,98,104,134,89,140,104,91,153,138,94,95,116,181,81,137,80,140,130,115,127,152,87,133,132,139,163,100,91,120,120,82,91,113,79,180,142,176,91,180,135,91,132,89,98,109,104,147,114,73,122,170,140,90,114,113,125,76,145,71,138,94,75,196,168,112,129,102,90,85,104,138,118,89,133,133,203,159,158,171,90,128,173,128,54,95,162,186,130,92,134,125,77,100,127,118,132,84,140,96,82,171,139,90,142,145,130,138,128,89,123,171,137,144,132,90,137,118,120,155,168,109,123,144,167,142,105,97,130,90,108,136,92,76,131,117,113,120,134,160,124,123,68,130,81,167,123,128,175,150,94,135,198,166,127,144,98,108,102,136,129,115,89,145,174,198,110,100,98,131,173,169,168,92,129,112,205,173,137,124,116,93,77,101,159,127,89,111,146,112,122,122,99,159,117,127,127,105,152,117,117,140,96,122,80,150,117,123,123,135,116,105,125,137,114,125,90,109,172,98,133,179,131,92,49,147,204,105,112,163,136,117,160,136,121,109,145,102,148,130,128,81,122,94,140,112,128,178,103,102,150,105,91,184,110,110,134,103],\"y\":[46,82,78,64,43,69,31,89,59,41,28,39,70,68,55,84,43,81,79,66,92,63,41,62,54,80,61,52,68,29,40,48,64,49,58,59,66,60,24,69,55,62,79,72,63,77,64,40,91,73,87,77,78,82,42,85,44,67,39,66,40,92,41,76,80,55,50,77,69,93,91,52,70,70,77,40,48,73,45,96,58,47,59,77,74,68,59,65,52,67,36,87,73,66,50,86,54,77,50,32,32,65,66,52,69,33,56,59,54,71,68,78,83,76,39,47,56,70,91,64,96,42,53,66,56,91,51,33,69,56,93,84,24,28,76,61,84,46,93,26,58,13,64,56,76,63,71,77,88,80,72,94,57,94,59,55,75,43,60,84,69,87,91,90,54,46,70,34,58,58,66,65,73,68,39,48,86,79,88,81,87,46,51,33,79,79,80,66,88,93,68,73,57,58,43,92,68,76,91,76,76,61,72,57,70,46,75,93,73,76,90,61,48,50,52,26,85,37,88,69,98,67,59,34,73,42,68,69,81,50,45,72,49,78,65,83,44,87,41,71,71,42,92,88,74,60,76,60,83,72,93,66,82,43,49,51,48,63,38,93,58,83,66,79,28,66,68,51,80,92,86,53,89,82,78,47,50,41,65,84,42,28,43,66,61,59,42,45,73,70,31,50,94,45,77,72,93,38,39,87,47,51,64,86,92,85,48,47,31,42,53,36,55,38,30,91,50,79,52,79,92,63,84,45,68,88,92,64,73,66,67,36,72,43,72,43,69,39,29,57,41,96,39,45,87,77,29,82,72,29,51,90,59,43,53,92,83,40,79,50,60,88,58,84,80,80,76,76,74,69,96,55,64,71,41,44,70,52,31,46,77,77,64,27,78,55,29,78,85,62,85,67,71,62,62,20,40,70,38,23,43,57,69,37,85,31,42,43,95,75,56,37,74,42,50,40,71,92,56,92,91,61,54,45,54,87,73,73,72,72,53,62,80,79,81,95,86,55,86,48,98,44,56,97,43,38,30,86,99,65,98,100,90,82,60,72,87,95,51,45,94,49,44,55,75,66,46,56,41,51,75,55,44,56,38,64,62,84,43,81,53,60,24,50,57,62,68,54,60,55,88,87,77,92,76,47,85,82,77,82,81,64,42,51,60,70,66,89,42,39,85,35,91,63,93,85,73,87,75,59,25,35,95,47,77,91,63,55,45,64,93,57,76,41,71,86,35,60,57,84,76,49,88,64,67,45,75,90,40,87,84,56,94,82,44,94,43,53,59,51,98,79,84,88,79,71,90,42,92,53,90,97,59,42,85,91,73,66,64,76,59,74,52,72,62,57,47,82,84,90,55,52,36,83,15,70,74,72,99,71,58,80,49,93,39,88,61,76,73,58,50,47,74,81,49,87,81,34,72,52,57,93,55,94,69,37,93,54,61,59,46,94,61,87,47,58,91,66,77,94,57,37,74,47,96,96,46,91,93,70,75,84,37,72,32,34,30,72,97,50,99,58,59,62,66,67,58,62,68,62,77,77,83,93,68,73,66,83,83,64,74,89,55,82,78,84,93,97,54,76,95,37,18,47,59,71,46,97,67,61,98,66,60,99,63,91,93,87,62,74,68,63,92,49,64,75,58,93,76,59,51,86,53,89,90],\"z\":[34,26,44,52,54,44,40,60,59,58,52,57,61,50,78,61,31,53,34,46,45,34,21,32,77,45,45,65,37,55,50,26,71,59,55,49,36,53,55,64,56,59,60,40,47,51,18,39,54,60,37,65,55,55,40,28,56,51,14,45,73,63,71,34,57,37,33,47,55,23,51,44,69,32,59,37,66,45,49,43,30,28,56,53,43,36,47,66,48,50,39,25,41,42,46,64,58,44,92,50,52,53,67,77,34,27,71,48,30,33,28,48,55,45,48,40,41,46,57,59,46,62,55,54,70,48,80,49,50,57,45,47,19,47,50,58,62,43,62,31,27,59,29,56,79,45,46,38,56,58,50,39,62,43,43,33,51,39,54,41,67,34,57,23,51,54,68,40,43,79,64,59,53,52,19,31,53,40,44,55,31,72,44,40,60,39,44,39,18,33,38,49,66,54,67,51,64,50,28,41,66,51,31,59,63,27,50,52,43,43,52,70,34,39,45,33,54,53,74,43,32,58,38,44,67,48,61,69,52,36,51,49,75,60,26,43,64,51,81,63,55,30,69,41,70,31,45,52,46,48,41,38,40,51,28,57,57,39,35,52,57,51,87,36,49,22,62,48,46,47,33,26,36,61,67,37,27,27,47,26,53,53,49,46,28,45,31,46,50,66,41,45,53,49,65,60,51,42,59,23,77,36,62,56,35,15,52,62,27,21,41,53,48,59,70,55,58,31,57,54,55,48,60,60,62,35,66,60,50,44,29,34,27,35,27,31,66,26,26,58,62,46,68,39,55,37,77,53,41,74,36,39,44,41,52,36,60,51,57,40,27,54,50,32,41,22,26,53,27,30,37,34,31,51,52,48,52,51,72,53,53,56,30,39,45,55,71,26,55,60,28,57,66,77,88,34,45,73,53,45,60,51,79,75,25,69,69,28,44,50,60,47,69,35,75,62,50,46,41,51,92,53,56,37,58,55,40,48,54,51,44,49,25,29,32,53,46,62,50,74,41,42,61,57,47,44,35,54,45,58,32,28,61,68,56,49,60,58,65,53,32,38,27,27,42,38,56,44,75,38,29,38,30,43,25,36,49,52,44,73,39,22,61,50,34,54,43,38,32,27,49,47,55,33,51,53,60,50,56,53,44,47,50,60,50,54,51,33,44,35,63,54,53,67,51,88,21,55,45,38,52,50,22,60,46,38,51,59,36,37,31,38,49,46,71,57,56,66,37,59,36,52,46,26,43,48,56,41,40,33,49,36,33,46,24,37,52,59,46,57,27,43,54,49,10,62,47,44,36,59,47,48,43,53,60,60,63,68,46,60,38,50,63,28,48,61,34,51,64,52,63,18,56,35,52,76,49,58,61,56,35,75,52,26,62,63,28,40,54,23,55,48,49,50,41,37,49,38,76,70,32,42,54,51,51,82,54,56,37,39,31,25,30,51,32,52,47,43,35,48,26,43,65,38,43,37,74,57,44,41,36,29,47,60,65,51,59,36,45,29,24,30,40,39,40,55,73,48,51,41,30,78,38,38,53,49,53,52,54,55,43,79,44,29,70,20,42,51,29,48,66,39,36,24,43,37,36,41,60,43,54,60,82,64,68,27,48,68,63,64,54,46,64,38,38,35,52,24,73,56,35,50,52,50,35],\"type\":\"scatter3d\",\"hovertemplate\":\"Beats Per Minute (BPM): %{x} \\u003cbr\\u003eEnergy: %{y} \\u003cbr\\u003eDanceability: %{z}\"},{\"marker\":{\"line\":{\"width\":1},\"size\":6},\"mode\":\"markers\",\"name\":\"Cluster 3\",\"x\":[81,89,189,172,164,120,124,84,96,105,116,136,106,140,113,110,126,90,114,119,109,120,129,125,167,89,106,176,85,155,106,122,105,76,151,99,112,117,127,118,81,101,87,179,98,65,115,129,93,104,119,117,100,135,132,90,105,115,127,100,82,116,127,105,127,105,111,111,148,131,122,114,191,82,133,122,110,112,105,143,111,186,106,106,100,118,127,126,80,103,109,84,131,104,125,117,117,131,75,132,105,128,125,102,91,92,96,117,104,119,123,102,137,127,127,94,133,117,85,125,117,123,139,121,175,98,174,160,127,127,120,116,98,106,119,135,101,75,77,104,127,74,170,177,107,143,127,125,139,156,89,141,106,81,113,128,82,102,106,120,115,81,120,159,110,194,110,169,134,124,137,122,105,138,169,118,133,141,133,124,80,117,95,87,87,117,140,104,103,129,115,168,148,123,131,182,119,170,166,103,111,95,139,103,112,124,112,105,108,108,156,114,130,95,128,166,131,128,120,100,137,111,115,89,185,121,120,91,119,115,126,95,117,147,125,113,112,96,119,147,153,147,98,128,138,101,89,115,120,99,115,124,101,136,122,106,110,151,115,110,132,86,120,117,97,124,170,103,95,105,122,106,100,109,172,148,83,136,126,126,107,116,147,134,147,122,117,104,129,136,86,110,121,131,107,104,136,113,143,132,98,130,78,139,81,146,75,153,123,145,100,94,104,123,111,94,177,120,119,133,143,111,100,130,116,170,129,134,141,141,77,118,115,156,76,148,118,129,72,83,99,94,135,154,92,109,128,172,177,128,117,144,96,106,108,94,122,174,145,138,82,129,126,93,135,93,119,126,107,118,167,91,131,95,132,120,111,135,180,99,109,160,125,104,113,111,108,121,106,110,120,93,107,147,134,127,130,107,139,125,177,107,119,86,90,112,175,160,117,116,174,96,103,134,100,131,138,171,126,110,84,121,116,118,121,115,131,136,98,98,81,102,141,148,104,94,125,142,132,129,101,113,120,131,92,120,97,123,137,130,83,119,105,135,92,148,109,115,145,95,103,115,174,122,177,103,115,94,132,168,126,77,106,121,87,99,174,133,119,169,206,127,134,133,115,113,119,121,130,115,128,80,170,80,131,125,136,132,139,106,142,168,85,177,120,121,135,99,149,123,85,151,138,156,132,125,91,104,174,123,127,134,112,197,127,126,125,146,132,75,147,114,117,110,92,162,137,110,116,175,203,171,118,89,115,121,91,101,153,126,96,124,130,106,92,143,97,97,132,114,92,118,117,103,101,151,100,111,129,126,125,141,123,125,121,134,119,129,131,93,130,128,113,109,125,139,85,116,115,98,152,116,112,181,119,113,118,123,100,146,114,167,115,102,171,130,142,115,122,130,83,117,92,127,122,138,118,160,129,128,140,87,125,89,174,139,136,112,127,129,129,127,165,118,98,136,114,110,121,94,86,143,131,188,142,124,97,119,103,107,144,135,140,125,104,108,124,177,118,116,181,112,89,147,78,178,102,128,119,93,76,92,131,105,145,130,100,115,114,124,130,114,111,172,127,144,92,104,148,127,127,125,133,123,86,117,175,125,131,143,168,88,107,108,98,108,117,144,130,145,102,127,108],\"y\":[65,82,76,60,54,34,54,40,65,36,67,90,73,49,42,71,73,41,66,88,43,79,49,70,61,64,67,74,94,94,80,56,50,52,81,67,75,79,49,74,76,83,93,77,65,33,65,45,72,57,82,65,93,79,58,75,90,78,35,83,57,78,38,66,79,88,74,53,48,41,57,54,93,40,72,92,89,81,40,76,57,99,68,84,88,82,81,75,81,86,90,45,71,72,68,45,92,86,71,82,79,69,71,51,82,73,70,35,86,83,78,72,49,77,78,52,80,38,40,70,91,71,77,73,79,69,72,82,90,87,60,39,94,96,53,89,88,66,57,54,60,63,35,80,43,76,52,39,88,50,75,92,82,86,83,78,52,88,68,66,89,65,79,80,61,93,85,84,80,56,69,95,38,93,70,63,72,66,64,86,78,77,88,65,68,54,81,97,76,67,97,60,70,73,83,50,53,69,75,69,85,73,67,86,78,46,61,73,75,53,97,71,49,56,76,87,42,87,60,45,90,74,61,65,52,41,78,46,72,77,81,41,96,95,74,93,81,89,64,51,74,90,72,57,89,88,47,88,59,77,74,85,94,83,65,84,78,43,60,53,63,56,74,71,74,89,89,81,43,91,40,85,73,65,94,76,45,65,60,83,77,74,89,51,59,71,75,88,72,77,75,86,57,96,74,82,80,40,63,55,64,85,51,71,64,94,88,45,96,28,53,61,39,52,27,75,48,47,76,67,74,54,63,73,59,70,93,66,63,82,89,44,67,87,71,87,72,59,87,67,69,54,80,95,90,88,71,96,78,64,41,75,63,72,39,38,93,96,51,75,90,94,80,84,94,37,60,76,71,62,89,94,87,66,93,32,86,90,66,57,78,80,78,79,83,75,58,76,58,64,80,46,69,68,63,63,82,79,97,95,76,57,81,68,91,80,79,80,73,92,52,67,48,75,68,72,99,58,49,47,90,39,87,53,67,49,82,86,50,91,71,65,98,84,74,56,92,85,63,74,77,94,92,88,80,76,78,89,69,60,58,73,78,58,69,93,58,73,89,85,95,70,78,98,90,72,48,60,86,80,99,56,60,70,78,51,61,81,92,83,89,66,92,66,61,95,82,38,70,85,85,66,64,97,53,85,86,76,81,74,63,60,56,37,76,95,43,56,90,73,76,95,58,48,71,76,63,59,54,84,60,82,67,71,47,95,88,73,49,67,91,60,47,71,81,57,47,41,47,59,82,73,57,65,56,80,61,69,63,88,91,69,70,68,94,90,70,74,48,89,76,82,65,88,84,58,66,64,51,86,92,71,82,69,69,45,63,46,50,74,68,77,81,51,54,80,87,62,56,54,88,81,65,59,58,84,67,72,85,92,39,58,46,35,46,71,92,72,83,47,88,91,88,82,72,56,89,85,84,54,82,66,76,83,90,83,85,50,39,92,64,79,56,98,61,92,59,77,63,70,52,83,72,70,82,80,79,84,61,79,90,75,86,80,87,70,78,55,71,87,62,68,45,87,68,80,25,76,70,77,56,85,46,66,91,78,80,91,46,65,70,83,90,80,71,91,65,86,60,72,90,91,80,75,83,74,76,60,58,83,93,63,80,84,41,87,78,59,62,97,59,96,54],\"z\":[50,53,43,53,78,82,47,70,83,63,65,65,79,57,74,80,70,63,60,72,72,66,72,42,38,57,56,66,44,48,67,78,70,73,58,69,91,61,73,73,50,31,50,51,69,31,45,75,53,77,71,92,64,50,50,42,43,62,53,71,62,65,56,95,48,66,66,69,81,55,87,81,40,65,68,85,64,60,61,56,70,38,38,70,62,78,56,57,37,70,43,62,78,55,46,82,64,74,60,70,58,56,69,49,67,67,49,72,54,48,61,59,76,53,71,56,52,49,52,63,50,87,53,67,46,67,43,65,73,41,85,65,62,68,47,50,78,53,54,71,62,46,56,54,65,60,55,48,64,53,61,58,58,44,74,81,48,54,63,79,74,52,70,46,66,49,78,47,65,80,49,40,84,55,44,76,87,58,55,79,53,65,62,61,57,59,61,39,53,62,60,58,49,48,43,40,68,57,70,52,64,53,57,63,58,93,55,68,62,91,31,57,95,79,69,36,88,58,85,49,60,60,67,62,73,83,56,55,67,68,64,54,57,26,69,56,65,63,91,58,45,53,68,58,56,54,86,66,79,65,65,62,54,51,60,46,65,63,62,93,69,44,71,66,57,77,32,71,48,46,43,54,39,65,46,91,60,64,73,69,60,67,55,45,56,70,61,80,61,52,52,77,80,62,55,72,67,69,57,85,48,59,38,82,55,27,28,69,54,81,56,64,69,72,90,65,65,46,52,67,71,67,63,70,68,75,63,67,41,57,69,48,72,56,52,73,78,93,43,43,60,79,56,35,50,62,73,60,39,51,71,66,66,82,80,56,63,49,52,75,58,70,63,64,59,67,83,65,85,65,49,62,70,56,64,43,56,40,50,56,44,65,78,59,67,67,74,61,76,70,71,45,69,40,65,43,55,75,54,45,58,59,85,87,86,65,35,49,49,61,81,45,40,62,51,64,51,51,51,66,57,72,64,67,76,73,60,72,52,53,45,56,31,52,66,72,52,53,55,48,56,73,67,66,53,63,41,53,55,66,27,87,55,69,76,44,74,71,64,60,54,68,68,71,50,92,68,81,61,53,73,66,65,54,36,60,76,86,70,55,38,66,59,64,86,65,88,76,48,73,77,55,73,73,87,48,72,80,59,63,76,54,40,43,70,70,70,45,43,72,37,58,65,62,42,64,67,66,65,47,62,72,91,31,76,51,60,44,72,30,60,88,73,66,70,37,47,67,74,23,27,35,68,87,78,96,74,62,57,58,56,83,79,66,67,72,62,66,69,59,52,67,54,76,60,49,67,62,69,67,64,75,58,63,78,60,71,78,42,67,64,74,64,74,68,76,42,80,81,64,51,79,81,56,73,71,75,82,58,64,63,65,83,67,54,66,56,53,59,80,56,57,66,89,62,74,76,58,65,33,42,63,84,47,41,51,58,74,74,74,67,77,48,85,60,37,63,56,61,83,61,54,49,31,58,60,71,63,71,69,43,73,79,74,73,68,53,52,73,55,61,60,62,64,66,66,96,78,67,52,59,68,60,75,55,67,71,63,69,76,68,42,64,21,67,59,48,53,51,68,56,45,74,59,41,64,36,48,67,44,51,53,82,72,85,74,52,62,44,71,77,65,86],\"type\":\"scatter3d\",\"hovertemplate\":\"Beats Per Minute (BPM): %{x} \\u003cbr\\u003eEnergy: %{y} \\u003cbr\\u003eDanceability: %{z}\"}],                        {\"template\":{\"data\":{\"histogram2dcontour\":[{\"type\":\"histogram2dcontour\",\"colorbar\":{\"outlinewidth\":0,\"ticks\":\"\"},\"colorscale\":[[0.0,\"#0d0887\"],[0.1111111111111111,\"#46039f\"],[0.2222222222222222,\"#7201a8\"],[0.3333333333333333,\"#9c179e\"],[0.4444444444444444,\"#bd3786\"],[0.5555555555555556,\"#d8576b\"],[0.6666666666666666,\"#ed7953\"],[0.7777777777777778,\"#fb9f3a\"],[0.8888888888888888,\"#fdca26\"],[1.0,\"#f0f921\"]]}],\"choropleth\":[{\"type\":\"choropleth\",\"colorbar\":{\"outlinewidth\":0,\"ticks\":\"\"}}],\"histogram2d\":[{\"type\":\"histogram2d\",\"colorbar\":{\"outlinewidth\":0,\"ticks\":\"\"},\"colorscale\":[[0.0,\"#0d0887\"],[0.1111111111111111,\"#46039f\"],[0.2222222222222222,\"#7201a8\"],[0.3333333333333333,\"#9c179e\"],[0.4444444444444444,\"#bd3786\"],[0.5555555555555556,\"#d8576b\"],[0.6666666666666666,\"#ed7953\"],[0.7777777777777778,\"#fb9f3a\"],[0.8888888888888888,\"#fdca26\"],[1.0,\"#f0f921\"]]}],\"heatmap\":[{\"type\":\"heatmap\",\"colorbar\":{\"outlinewidth\":0,\"ticks\":\"\"},\"colorscale\":[[0.0,\"#0d0887\"],[0.1111111111111111,\"#46039f\"],[0.2222222222222222,\"#7201a8\"],[0.3333333333333333,\"#9c179e\"],[0.4444444444444444,\"#bd3786\"],[0.5555555555555556,\"#d8576b\"],[0.6666666666666666,\"#ed7953\"],[0.7777777777777778,\"#fb9f3a\"],[0.8888888888888888,\"#fdca26\"],[1.0,\"#f0f921\"]]}],\"heatmapgl\":[{\"type\":\"heatmapgl\",\"colorbar\":{\"outlinewidth\":0,\"ticks\":\"\"},\"colorscale\":[[0.0,\"#0d0887\"],[0.1111111111111111,\"#46039f\"],[0.2222222222222222,\"#7201a8\"],[0.3333333333333333,\"#9c179e\"],[0.4444444444444444,\"#bd3786\"],[0.5555555555555556,\"#d8576b\"],[0.6666666666666666,\"#ed7953\"],[0.7777777777777778,\"#fb9f3a\"],[0.8888888888888888,\"#fdca26\"],[1.0,\"#f0f921\"]]}],\"contourcarpet\":[{\"type\":\"contourcarpet\",\"colorbar\":{\"outlinewidth\":0,\"ticks\":\"\"}}],\"contour\":[{\"type\":\"contour\",\"colorbar\":{\"outlinewidth\":0,\"ticks\":\"\"},\"colorscale\":[[0.0,\"#0d0887\"],[0.1111111111111111,\"#46039f\"],[0.2222222222222222,\"#7201a8\"],[0.3333333333333333,\"#9c179e\"],[0.4444444444444444,\"#bd3786\"],[0.5555555555555556,\"#d8576b\"],[0.6666666666666666,\"#ed7953\"],[0.7777777777777778,\"#fb9f3a\"],[0.8888888888888888,\"#fdca26\"],[1.0,\"#f0f921\"]]}],\"surface\":[{\"type\":\"surface\",\"colorbar\":{\"outlinewidth\":0,\"ticks\":\"\"},\"colorscale\":[[0.0,\"#0d0887\"],[0.1111111111111111,\"#46039f\"],[0.2222222222222222,\"#7201a8\"],[0.3333333333333333,\"#9c179e\"],[0.4444444444444444,\"#bd3786\"],[0.5555555555555556,\"#d8576b\"],[0.6666666666666666,\"#ed7953\"],[0.7777777777777778,\"#fb9f3a\"],[0.8888888888888888,\"#fdca26\"],[1.0,\"#f0f921\"]]}],\"mesh3d\":[{\"type\":\"mesh3d\",\"colorbar\":{\"outlinewidth\":0,\"ticks\":\"\"}}],\"scatter\":[{\"fillpattern\":{\"fillmode\":\"overlay\",\"size\":10,\"solidity\":0.2},\"type\":\"scatter\"}],\"parcoords\":[{\"type\":\"parcoords\",\"line\":{\"colorbar\":{\"outlinewidth\":0,\"ticks\":\"\"}}}],\"scatterpolargl\":[{\"type\":\"scatterpolargl\",\"marker\":{\"colorbar\":{\"outlinewidth\":0,\"ticks\":\"\"}}}],\"bar\":[{\"error_x\":{\"color\":\"#2a3f5f\"},\"error_y\":{\"color\":\"#2a3f5f\"},\"marker\":{\"line\":{\"color\":\"#E5ECF6\",\"width\":0.5},\"pattern\":{\"fillmode\":\"overlay\",\"size\":10,\"solidity\":0.2}},\"type\":\"bar\"}],\"scattergeo\":[{\"type\":\"scattergeo\",\"marker\":{\"colorbar\":{\"outlinewidth\":0,\"ticks\":\"\"}}}],\"scatterpolar\":[{\"type\":\"scatterpolar\",\"marker\":{\"colorbar\":{\"outlinewidth\":0,\"ticks\":\"\"}}}],\"histogram\":[{\"marker\":{\"pattern\":{\"fillmode\":\"overlay\",\"size\":10,\"solidity\":0.2}},\"type\":\"histogram\"}],\"scattergl\":[{\"type\":\"scattergl\",\"marker\":{\"colorbar\":{\"outlinewidth\":0,\"ticks\":\"\"}}}],\"scatter3d\":[{\"type\":\"scatter3d\",\"line\":{\"colorbar\":{\"outlinewidth\":0,\"ticks\":\"\"}},\"marker\":{\"colorbar\":{\"outlinewidth\":0,\"ticks\":\"\"}}}],\"scattermapbox\":[{\"type\":\"scattermapbox\",\"marker\":{\"colorbar\":{\"outlinewidth\":0,\"ticks\":\"\"}}}],\"scatterternary\":[{\"type\":\"scatterternary\",\"marker\":{\"colorbar\":{\"outlinewidth\":0,\"ticks\":\"\"}}}],\"scattercarpet\":[{\"type\":\"scattercarpet\",\"marker\":{\"colorbar\":{\"outlinewidth\":0,\"ticks\":\"\"}}}],\"carpet\":[{\"aaxis\":{\"endlinecolor\":\"#2a3f5f\",\"gridcolor\":\"white\",\"linecolor\":\"white\",\"minorgridcolor\":\"white\",\"startlinecolor\":\"#2a3f5f\"},\"baxis\":{\"endlinecolor\":\"#2a3f5f\",\"gridcolor\":\"white\",\"linecolor\":\"white\",\"minorgridcolor\":\"white\",\"startlinecolor\":\"#2a3f5f\"},\"type\":\"carpet\"}],\"table\":[{\"cells\":{\"fill\":{\"color\":\"#EBF0F8\"},\"line\":{\"color\":\"white\"}},\"header\":{\"fill\":{\"color\":\"#C8D4E3\"},\"line\":{\"color\":\"white\"}},\"type\":\"table\"}],\"barpolar\":[{\"marker\":{\"line\":{\"color\":\"#E5ECF6\",\"width\":0.5},\"pattern\":{\"fillmode\":\"overlay\",\"size\":10,\"solidity\":0.2}},\"type\":\"barpolar\"}],\"pie\":[{\"automargin\":true,\"type\":\"pie\"}]},\"layout\":{\"autotypenumbers\":\"strict\",\"colorway\":[\"#636efa\",\"#EF553B\",\"#00cc96\",\"#ab63fa\",\"#FFA15A\",\"#19d3f3\",\"#FF6692\",\"#B6E880\",\"#FF97FF\",\"#FECB52\"],\"font\":{\"color\":\"#2a3f5f\"},\"hovermode\":\"closest\",\"hoverlabel\":{\"align\":\"left\"},\"paper_bgcolor\":\"white\",\"plot_bgcolor\":\"#E5ECF6\",\"polar\":{\"bgcolor\":\"#E5ECF6\",\"angularaxis\":{\"gridcolor\":\"white\",\"linecolor\":\"white\",\"ticks\":\"\"},\"radialaxis\":{\"gridcolor\":\"white\",\"linecolor\":\"white\",\"ticks\":\"\"}},\"ternary\":{\"bgcolor\":\"#E5ECF6\",\"aaxis\":{\"gridcolor\":\"white\",\"linecolor\":\"white\",\"ticks\":\"\"},\"baxis\":{\"gridcolor\":\"white\",\"linecolor\":\"white\",\"ticks\":\"\"},\"caxis\":{\"gridcolor\":\"white\",\"linecolor\":\"white\",\"ticks\":\"\"}},\"coloraxis\":{\"colorbar\":{\"outlinewidth\":0,\"ticks\":\"\"}},\"colorscale\":{\"sequential\":[[0.0,\"#0d0887\"],[0.1111111111111111,\"#46039f\"],[0.2222222222222222,\"#7201a8\"],[0.3333333333333333,\"#9c179e\"],[0.4444444444444444,\"#bd3786\"],[0.5555555555555556,\"#d8576b\"],[0.6666666666666666,\"#ed7953\"],[0.7777777777777778,\"#fb9f3a\"],[0.8888888888888888,\"#fdca26\"],[1.0,\"#f0f921\"]],\"sequentialminus\":[[0.0,\"#0d0887\"],[0.1111111111111111,\"#46039f\"],[0.2222222222222222,\"#7201a8\"],[0.3333333333333333,\"#9c179e\"],[0.4444444444444444,\"#bd3786\"],[0.5555555555555556,\"#d8576b\"],[0.6666666666666666,\"#ed7953\"],[0.7777777777777778,\"#fb9f3a\"],[0.8888888888888888,\"#fdca26\"],[1.0,\"#f0f921\"]],\"diverging\":[[0,\"#8e0152\"],[0.1,\"#c51b7d\"],[0.2,\"#de77ae\"],[0.3,\"#f1b6da\"],[0.4,\"#fde0ef\"],[0.5,\"#f7f7f7\"],[0.6,\"#e6f5d0\"],[0.7,\"#b8e186\"],[0.8,\"#7fbc41\"],[0.9,\"#4d9221\"],[1,\"#276419\"]]},\"xaxis\":{\"gridcolor\":\"white\",\"linecolor\":\"white\",\"ticks\":\"\",\"title\":{\"standoff\":15},\"zerolinecolor\":\"white\",\"automargin\":true,\"zerolinewidth\":2},\"yaxis\":{\"gridcolor\":\"white\",\"linecolor\":\"white\",\"ticks\":\"\",\"title\":{\"standoff\":15},\"zerolinecolor\":\"white\",\"automargin\":true,\"zerolinewidth\":2},\"scene\":{\"xaxis\":{\"backgroundcolor\":\"#E5ECF6\",\"gridcolor\":\"white\",\"linecolor\":\"white\",\"showbackground\":true,\"ticks\":\"\",\"zerolinecolor\":\"white\",\"gridwidth\":2},\"yaxis\":{\"backgroundcolor\":\"#E5ECF6\",\"gridcolor\":\"white\",\"linecolor\":\"white\",\"showbackground\":true,\"ticks\":\"\",\"zerolinecolor\":\"white\",\"gridwidth\":2},\"zaxis\":{\"backgroundcolor\":\"#E5ECF6\",\"gridcolor\":\"white\",\"linecolor\":\"white\",\"showbackground\":true,\"ticks\":\"\",\"zerolinecolor\":\"white\",\"gridwidth\":2}},\"shapedefaults\":{\"line\":{\"color\":\"#2a3f5f\"}},\"annotationdefaults\":{\"arrowcolor\":\"#2a3f5f\",\"arrowhead\":0,\"arrowwidth\":1},\"geo\":{\"bgcolor\":\"white\",\"landcolor\":\"#E5ECF6\",\"subunitcolor\":\"white\",\"showland\":true,\"showlakes\":true,\"lakecolor\":\"white\"},\"title\":{\"x\":0.05},\"mapbox\":{\"style\":\"light\"}}},\"scene\":{\"xaxis\":{\"title\":{\"text\":\"Beats Per Minute (BPM)\",\"font\":{\"color\":\"black\"}}},\"yaxis\":{\"title\":{\"text\":\"Energy\",\"font\":{\"color\":\"black\"}}},\"zaxis\":{\"title\":{\"text\":\"Danceability\",\"font\":{\"color\":\"black\"}}}},\"font\":{\"family\":\"Gilroy\",\"color\":\"black\",\"size\":12},\"width\":800,\"height\":800,\"autosize\":true,\"showlegend\":true},                        {\"responsive\": true}                    ).then(function(){\n",
              "                            \n",
              "var gd = document.getElementById('33c62d9e-d591-4ba5-bc88-c2f30bd9944c');\n",
              "var x = new MutationObserver(function (mutations, observer) {{\n",
              "        var display = window.getComputedStyle(gd).display;\n",
              "        if (!display || display === 'none') {{\n",
              "            console.log([gd, 'removed!']);\n",
              "            Plotly.purge(gd);\n",
              "            observer.disconnect();\n",
              "        }}\n",
              "}});\n",
              "\n",
              "// Listen for the removal of the full notebook cells\n",
              "var notebookContainer = gd.closest('#notebook-container');\n",
              "if (notebookContainer) {{\n",
              "    x.observe(notebookContainer, {childList: true});\n",
              "}}\n",
              "\n",
              "// Listen for the clearing of the current output cell\n",
              "var outputEl = gd.closest('.output');\n",
              "if (outputEl) {{\n",
              "    x.observe(outputEl, {childList: true});\n",
              "}}\n",
              "\n",
              "                        })                };                            </script>        </div>\n",
              "</body>\n",
              "</html>"
            ]
          },
          "metadata": {}
        }
      ]
    }
  ]
}